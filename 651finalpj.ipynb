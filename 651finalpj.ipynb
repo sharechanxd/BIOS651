{
 "cells": [
  {
   "cell_type": "code",
   "execution_count": 1,
   "metadata": {},
   "outputs": [],
   "source": [
    "mela = readRDS('C:/Users/xiao/Documents/Dataset.RData')"
   ]
  },
  {
   "cell_type": "code",
   "execution_count": 2,
   "metadata": {},
   "outputs": [
    {
     "name": "stdout",
     "output_type": "stream",
     "text": [
      "Classes 'tbl_df', 'tbl' and 'data.frame':\t240 obs. of  29 variables:\n",
      " $ gender            : chr  \"female\" \"female\" \"male\" \"female\" ...\n",
      " $ age               : num  46 74 56 71 80 36 84 63 81 65 ...\n",
      " $ tile_count        : num  165 224 132 486 76 272 555 92 404 126 ...\n",
      " $ infiltration_count: num  146 163 112 333 64 149 448 89 313 102 ...\n",
      " $ AKT1              : num  0.976 -0.119 0.115 0.694 -1.513 ...\n",
      " $ AKT3              : num  -0.783 0.287 -1.133 0.773 -0.741 ...\n",
      " $ DCK               : num  -1.433 0.185 -0.813 -0.372 -0.102 ...\n",
      " $ INSR              : num  0.401 -1.376 -0.405 -1.481 -0.932 ...\n",
      " $ MC1R              : num  -0.2041 0.1725 -0.0494 1.4269 -0.6001 ...\n",
      " $ PAK2              : num  0.0711 0.3565 -0.4629 0.355 1.534 ...\n",
      " $ TLR4              : num  0.1403 -0.9031 -0.0213 -0.9114 -0.6317 ...\n",
      " $ CIITA             : num  -0.7188 -0.7002 -0.0802 -0.6543 0.5589 ...\n",
      " $ IL17RB            : num  -0.157 0.0535 -0.4855 -0.4588 0.0207 ...\n",
      " $ KLRD1             : num  -0.635 -0.633 2.015 -0.483 -0.22 ...\n",
      " $ MC3R              : num  0.2286 -0.2406 -0.2406 0.0906 -0.2406 ...\n",
      " $ NAMPT             : num  -0.774 0.354 -0.822 -0.119 -0.801 ...\n",
      " $ RFX5              : num  -0.9221 -0.0509 -0.2789 0.2293 -0.6636 ...\n",
      " $ SOS1              : num  -1.215 -0.578 -1.125 -0.98 -0.818 ...\n",
      " $ DDX58             : num  -0.847 -0.405 0.238 -0.253 -0.223 ...\n",
      " $ EIF2AK2           : num  -1.3087 -0.0345 -0.9002 0.2054 -0.533 ...\n",
      " $ APOBEC3G          : num  -0.496 -0.771 0.185 -0.408 -0.629 ...\n",
      " $ IL15RA            : num  -0.757 -0.849 1.663 -0.717 0.15 ...\n",
      " $ CCL28             : num  -0.19 1.156 -0.324 -0.445 -0.57 ...\n",
      " $ IL17C             : num  -0.184 -0.453 -0.165 -0.453 -0.162 ...\n",
      " $ B2M               : num  -0.918 -1.059 0.244 -0.303 -0.485 ...\n",
      " $ CD86              : num  -0.977 -0.901 0.429 -0.728 -0.422 ...\n",
      " $ CD81              : num  -0.0638 -0.4224 0.0367 0.427 -0.8488 ...\n",
      " $ C5                : num  0.291 -0.656 -0.653 -0.729 -0.515 ...\n",
      " $ TNFRSF19          : num  -0.455 -0.461 -0.322 -0.106 -0.19 ...\n"
     ]
    }
   ],
   "source": [
    "data=mela[,c(4:7,9:33)]\n",
    "str(data)"
   ]
  },
  {
   "cell_type": "code",
   "execution_count": 4,
   "metadata": {},
   "outputs": [],
   "source": [
    "library(ggplot2)\n",
    "library(MASS)"
   ]
  },
  {
   "cell_type": "code",
   "execution_count": 5,
   "metadata": {},
   "outputs": [],
   "source": [
    "data$infil_rate = data$infiltration_count/data$tile_count"
   ]
  },
  {
   "cell_type": "markdown",
   "metadata": {},
   "source": [
    "### EDA"
   ]
  },
  {
   "cell_type": "code",
   "execution_count": 6,
   "metadata": {},
   "outputs": [
    {
     "name": "stdout",
     "output_type": "stream",
     "text": [
      "tibble [240 x 30] (S3: tbl_df/tbl/data.frame)\n",
      " $ gender            : chr [1:240] \"female\" \"female\" \"male\" \"female\" ...\n",
      " $ age               : num [1:240] 46 74 56 71 80 36 84 63 81 65 ...\n",
      " $ tile_count        : num [1:240] 165 224 132 486 76 272 555 92 404 126 ...\n",
      " $ infiltration_count: num [1:240] 146 163 112 333 64 149 448 89 313 102 ...\n",
      " $ AKT1              : num [1:240] 0.976 -0.119 0.115 0.694 -1.513 ...\n",
      " $ AKT3              : num [1:240] -0.783 0.287 -1.133 0.773 -0.741 ...\n",
      " $ DCK               : num [1:240] -1.433 0.185 -0.813 -0.372 -0.102 ...\n",
      " $ INSR              : num [1:240] 0.401 -1.376 -0.405 -1.481 -0.932 ...\n",
      " $ MC1R              : num [1:240] -0.2041 0.1725 -0.0494 1.4269 -0.6001 ...\n",
      " $ PAK2              : num [1:240] 0.0711 0.3565 -0.4629 0.355 1.534 ...\n",
      " $ TLR4              : num [1:240] 0.1403 -0.9031 -0.0213 -0.9114 -0.6317 ...\n",
      " $ CIITA             : num [1:240] -0.7188 -0.7002 -0.0802 -0.6543 0.5589 ...\n",
      " $ IL17RB            : num [1:240] -0.157 0.0535 -0.4855 -0.4588 0.0207 ...\n",
      " $ KLRD1             : num [1:240] -0.635 -0.633 2.015 -0.483 -0.22 ...\n",
      " $ MC3R              : num [1:240] 0.2286 -0.2406 -0.2406 0.0906 -0.2406 ...\n",
      " $ NAMPT             : num [1:240] -0.774 0.354 -0.822 -0.119 -0.801 ...\n",
      " $ RFX5              : num [1:240] -0.9221 -0.0509 -0.2789 0.2293 -0.6636 ...\n",
      " $ SOS1              : num [1:240] -1.215 -0.578 -1.125 -0.98 -0.818 ...\n",
      " $ DDX58             : num [1:240] -0.847 -0.405 0.238 -0.253 -0.223 ...\n",
      " $ EIF2AK2           : num [1:240] -1.3087 -0.0345 -0.9002 0.2054 -0.533 ...\n",
      " $ APOBEC3G          : num [1:240] -0.496 -0.771 0.185 -0.408 -0.629 ...\n",
      " $ IL15RA            : num [1:240] -0.757 -0.849 1.663 -0.717 0.15 ...\n",
      " $ CCL28             : num [1:240] -0.19 1.156 -0.324 -0.445 -0.57 ...\n",
      " $ IL17C             : num [1:240] -0.184 -0.453 -0.165 -0.453 -0.162 ...\n",
      " $ B2M               : num [1:240] -0.918 -1.059 0.244 -0.303 -0.485 ...\n",
      " $ CD86              : num [1:240] -0.977 -0.901 0.429 -0.728 -0.422 ...\n",
      " $ CD81              : num [1:240] -0.0638 -0.4224 0.0367 0.427 -0.8488 ...\n",
      " $ C5                : num [1:240] 0.291 -0.656 -0.653 -0.729 -0.515 ...\n",
      " $ TNFRSF19          : num [1:240] -0.455 -0.461 -0.322 -0.106 -0.19 ...\n",
      " $ infil_rate        : num [1:240] 0.885 0.728 0.848 0.685 0.842 ...\n"
     ]
    }
   ],
   "source": [
    "str(data)"
   ]
  },
  {
   "cell_type": "code",
   "execution_count": 7,
   "metadata": {},
   "outputs": [
    {
     "name": "stderr",
     "output_type": "stream",
     "text": [
      "Bin width defaults to 1/30 of the range of the data. Pick better value with `binwidth`.\n",
      "\n"
     ]
    },
    {
     "data": {
      "image/png": "[encoded data removed]",
      "text/plain": [
       "plot without title"
      ]
     },
     "metadata": {
      "image/png": {
       "height": 420,
       "width": 420
      }
     },
     "output_type": "display_data"
    }
   ],
   "source": [
    "theme_set(theme_bw())\n",
    "\n",
    "# plot\n",
    "g <- ggplot(data, aes(gender, infil_rate))+ geom_boxplot() + \n",
    "  geom_dotplot(binaxis='y', \n",
    "               stackdir='center', \n",
    "               dotsize = .5, \n",
    "               fill=\"#CB4335\") +\n",
    "  theme(axis.text.x = element_text(angle=65, vjust=0.6,size=15),axis.title = element_text(size = 20)) + \n",
    "  labs(x=\"Gender\",\n",
    "       y=\"Infiltration rate\")\n",
    "plot(g)"
   ]
  },
  {
   "cell_type": "code",
   "execution_count": 8,
   "metadata": {},
   "outputs": [
    {
     "name": "stderr",
     "output_type": "stream",
     "text": [
      "`geom_smooth()` using formula 'y ~ x'\n",
      "\n"
     ]
    },
    {
     "data": {
      "image/png": "[encoded data removed]",
      "text/plain": [
       "plot without title"
      ]
     },
     "metadata": {
      "image/png": {
       "height": 420,
       "width": 420
      }
     },
     "output_type": "display_data"
    }
   ],
   "source": [
    "theme_set(theme_bw())\n",
    "gg <- ggplot(data, aes(x=age, y=infil_rate)) + \n",
    "geom_point() + \n",
    "  geom_smooth(method=\"loess\", se=F) + \n",
    "  ylim(c(0, 1)) +  \n",
    "  theme(axis.title = element_text(size = 20))+\n",
    "  labs(y=\"Infiltration rate\", \n",
    "       x=\"Age\")\n",
    "\n",
    "plot(gg)"
   ]
  },
  {
   "cell_type": "code",
   "execution_count": 9,
   "metadata": {
    "scrolled": true
   },
   "outputs": [
    {
     "name": "stderr",
     "output_type": "stream",
     "text": [
      "Warning message:\n",
      "\"package 'reshape' was built under R version 3.6.3\"\n"
     ]
    },
    {
     "name": "stdout",
     "output_type": "stream",
     "text": [
      "'data.frame':\t6000 obs. of  3 variables:\n",
      " $ infil_rate: num  0.885 0.728 0.848 0.685 0.842 ...\n",
      " $ variable  : Factor w/ 25 levels \"AKT1\",\"AKT3\",..: 1 1 1 1 1 1 1 1 1 1 ...\n",
      " $ value     : num  0.976 -0.119 0.115 0.694 -1.513 ...\n"
     ]
    }
   ],
   "source": [
    "library(reshape)\n",
    "data2=melt(data.frame(data[,5:30]), id=\"infil_rate\")\n",
    "str(data2)"
   ]
  },
  {
   "cell_type": "code",
   "execution_count": 10,
   "metadata": {},
   "outputs": [
    {
     "name": "stderr",
     "output_type": "stream",
     "text": [
      "`geom_smooth()` using formula 'y ~ x'\n",
      "\n"
     ]
    },
    {
     "data": {
      "image/png": "[encoded data removed]",
      "text/plain": [
       "plot without title"
      ]
     },
     "metadata": {
      "image/png": {
       "height": 420,
       "width": 420
      }
     },
     "output_type": "display_data"
    }
   ],
   "source": [
    "gg <- ggplot(data2, aes(x=value, y=infil_rate,color = variable,group=variable)) + \n",
    "  geom_smooth(method=\"lm\", se=F) + \n",
    "  ylim(c(0, 1)) + \n",
    "  labs(y=\"Infiltration rate\", \n",
    "       x=\"Gene expression values\")+theme(axis.title = element_text(size = 20))\n",
    "\n",
    "plot(gg)"
   ]
  },
  {
   "cell_type": "code",
   "execution_count": 11,
   "metadata": {},
   "outputs": [
    {
     "name": "stderr",
     "output_type": "stream",
     "text": [
      "`geom_smooth()` using formula 'y ~ x'\n",
      "\n",
      "Warning message in simpleLoess(y, x, w, span, degree = degree, parametric = parametric, :\n",
      "\"pseudoinverse used at -0.3011\"\n",
      "Warning message in simpleLoess(y, x, w, span, degree = degree, parametric = parametric, :\n",
      "\"neighborhood radius 0.1299\"\n",
      "Warning message in simpleLoess(y, x, w, span, degree = degree, parametric = parametric, :\n",
      "\"reciprocal condition number  0\"\n",
      "Warning message in simpleLoess(y, x, w, span, degree = degree, parametric = parametric, :\n",
      "\"There are other near singularities as well. 0.0048222\"\n"
     ]
    },
    {
     "data": {
      "image/png": "[encoded data removed]",
      "text/plain": [
       "plot without title"
      ]
     },
     "metadata": {
      "image/png": {
       "height": 420,
       "width": 420
      }
     },
     "output_type": "display_data"
    }
   ],
   "source": [
    "gg <- ggplot(data2, aes(x=value, y=infil_rate,color = variable,group=variable)) + \n",
    "  geom_smooth(method=\"loess\", se=F) + \n",
    "  ylim(c(0, 1)) + \n",
    "  labs(y=\"Infiltration rate\", \n",
    "       x=\"Gene expression values\")+theme(axis.title = element_text(size = 20))\n",
    "\n",
    "plot(gg)"
   ]
  },
  {
   "cell_type": "markdown",
   "metadata": {},
   "source": [
    "### Correlation and multicollinearity"
   ]
  },
  {
   "cell_type": "code",
   "execution_count": 12,
   "metadata": {
    "scrolled": false
   },
   "outputs": [
    {
     "name": "stderr",
     "output_type": "stream",
     "text": [
      "Warning message:\n",
      "\"package 'ggcorrplot' was built under R version 3.6.3\"\n"
     ]
    },
    {
     "data": {
      "image/png": "[encoded data removed]",
      "text/plain": [
       "plot without title"
      ]
     },
     "metadata": {
      "image/png": {
       "height": 420,
       "width": 420
      }
     },
     "output_type": "display_data"
    }
   ],
   "source": [
    "library(ggcorrplot)\n",
    "\n",
    "# Correlation matrix\n",
    "corr = cor(data.frame(data[,c(2,5:29)]))\n",
    "# Plot\n",
    "ggcorrplot(corr, hc.order = TRUE, \n",
    "           sig.level=0.05, p.mat = NULL, \n",
    "           insig = c(\"pch\", \"blank\"), pch = 1, pch.col = \"black\", pch.cex =1,\n",
    "           tl.cex = 14,tl.srt=90)"
   ]
  },
  {
   "cell_type": "code",
   "execution_count": 13,
   "metadata": {
    "scrolled": true
   },
   "outputs": [
    {
     "data": {
      "text/html": [
       "<style>\n",
       ".dl-inline {width: auto; margin:0; padding: 0}\n",
       ".dl-inline>dt, .dl-inline>dd {float: none; width: auto; display: inline-block}\n",
       ".dl-inline>dt::after {content: \":\\0020\"; padding-right: .5ex}\n",
       ".dl-inline>dt:not(:first-of-type) {padding-left: .5ex}\n",
       "</style><dl class=dl-inline><dt>gender</dt><dd>1.06453752137488</dd><dt>age</dt><dd>1.23057939150878</dd><dt>AKT1</dt><dd>2.61278572815203</dd><dt>AKT3</dt><dd>1.71635775051816</dd><dt>DCK</dt><dd>2.03711266475414</dd><dt>INSR</dt><dd>1.33622748477289</dd><dt>MC1R</dt><dd>1.90062968932271</dd><dt>PAK2</dt><dd>1.69798777918403</dd><dt>TLR4</dt><dd>1.91614584129282</dd><dt>CIITA</dt><dd>3.46965752083637</dd><dt>IL17RB</dt><dd>1.41710303669661</dd><dt>KLRD1</dt><dd>3.0337419236537</dd><dt>MC3R</dt><dd>1.14462731575062</dd><dt>NAMPT</dt><dd>1.30096203046762</dd><dt>RFX5</dt><dd>2.12780925923325</dd><dt>SOS1</dt><dd>1.44973944022545</dd><dt>DDX58</dt><dd>1.93186964799551</dd><dt>EIF2AK2</dt><dd>1.89763874501474</dd><dt>APOBEC3G</dt><dd>2.99926940975892</dd><dt>IL15RA</dt><dd>3.44638404188571</dd><dt>CCL28</dt><dd>1.33444401418843</dd><dt>IL17C</dt><dd>1.363926438817</dd><dt>B2M</dt><dd>2.9560381545863</dd><dt>CD86</dt><dd>5.8621234530765</dd><dt>CD81</dt><dd>2.02899058907797</dd><dt>C5</dt><dd>1.37578271691749</dd><dt>TNFRSF19</dt><dd>1.64635241755538</dd></dl>\n"
      ],
      "text/latex": [
       "\\begin{description*}\n",
       "\\item[gender] 1.06453752137488\n",
       "\\item[age] 1.23057939150878\n",
       "\\item[AKT1] 2.61278572815203\n",
       "\\item[AKT3] 1.71635775051816\n",
       "\\item[DCK] 2.03711266475414\n",
       "\\item[INSR] 1.33622748477289\n",
       "\\item[MC1R] 1.90062968932271\n",
       "\\item[PAK2] 1.69798777918403\n",
       "\\item[TLR4] 1.91614584129282\n",
       "\\item[CIITA] 3.46965752083637\n",
       "\\item[IL17RB] 1.41710303669661\n",
       "\\item[KLRD1] 3.0337419236537\n",
       "\\item[MC3R] 1.14462731575062\n",
       "\\item[NAMPT] 1.30096203046762\n",
       "\\item[RFX5] 2.12780925923325\n",
       "\\item[SOS1] 1.44973944022545\n",
       "\\item[DDX58] 1.93186964799551\n",
       "\\item[EIF2AK2] 1.89763874501474\n",
       "\\item[APOBEC3G] 2.99926940975892\n",
       "\\item[IL15RA] 3.44638404188571\n",
       "\\item[CCL28] 1.33444401418843\n",
       "\\item[IL17C] 1.363926438817\n",
       "\\item[B2M] 2.9560381545863\n",
       "\\item[CD86] 5.8621234530765\n",
       "\\item[CD81] 2.02899058907797\n",
       "\\item[C5] 1.37578271691749\n",
       "\\item[TNFRSF19] 1.64635241755538\n",
       "\\end{description*}\n"
      ],
      "text/markdown": [
       "gender\n",
       ":   1.06453752137488age\n",
       ":   1.23057939150878AKT1\n",
       ":   2.61278572815203AKT3\n",
       ":   1.71635775051816DCK\n",
       ":   2.03711266475414INSR\n",
       ":   1.33622748477289MC1R\n",
       ":   1.90062968932271PAK2\n",
       ":   1.69798777918403TLR4\n",
       ":   1.91614584129282CIITA\n",
       ":   3.46965752083637IL17RB\n",
       ":   1.41710303669661KLRD1\n",
       ":   3.0337419236537MC3R\n",
       ":   1.14462731575062NAMPT\n",
       ":   1.30096203046762RFX5\n",
       ":   2.12780925923325SOS1\n",
       ":   1.44973944022545DDX58\n",
       ":   1.93186964799551EIF2AK2\n",
       ":   1.89763874501474APOBEC3G\n",
       ":   2.99926940975892IL15RA\n",
       ":   3.44638404188571CCL28\n",
       ":   1.33444401418843IL17C\n",
       ":   1.363926438817B2M\n",
       ":   2.9560381545863CD86\n",
       ":   5.8621234530765CD81\n",
       ":   2.02899058907797C5\n",
       ":   1.37578271691749TNFRSF19\n",
       ":   1.64635241755538\n",
       "\n"
      ],
      "text/plain": [
       "  gender      age     AKT1     AKT3      DCK     INSR     MC1R     PAK2 \n",
       "1.064538 1.230579 2.612786 1.716358 2.037113 1.336227 1.900630 1.697988 \n",
       "    TLR4    CIITA   IL17RB    KLRD1     MC3R    NAMPT     RFX5     SOS1 \n",
       "1.916146 3.469658 1.417103 3.033742 1.144627 1.300962 2.127809 1.449739 \n",
       "   DDX58  EIF2AK2 APOBEC3G   IL15RA    CCL28    IL17C      B2M     CD86 \n",
       "1.931870 1.897639 2.999269 3.446384 1.334444 1.363926 2.956038 5.862123 \n",
       "    CD81       C5 TNFRSF19 \n",
       "2.028991 1.375783 1.646352 "
      ]
     },
     "metadata": {},
     "output_type": "display_data"
    }
   ],
   "source": [
    "model1 <- lm(infil_rate ~., data = data[,c(1,2,5:30)])\n",
    "car::vif(model1)"
   ]
  },
  {
   "cell_type": "code",
   "execution_count": null,
   "metadata": {},
   "outputs": [],
   "source": []
  },
  {
   "cell_type": "markdown",
   "metadata": {},
   "source": [
    "### Count models"
   ]
  },
  {
   "cell_type": "code",
   "execution_count": 14,
   "metadata": {},
   "outputs": [
    {
     "data": {
      "text/plain": [
       "\n",
       "Call:\n",
       "glm(formula = infiltration_count ~ . - tile_count - infil_rate, \n",
       "    family = poisson(link = \"log\"), data = data, offset = log(tile_count))\n",
       "\n",
       "Deviance Residuals: \n",
       "    Min       1Q   Median       3Q      Max  \n",
       "-7.5604  -1.4105   0.5106   1.9562   8.4395  \n",
       "\n",
       "Coefficients:\n",
       "              Estimate Std. Error z value Pr(>|z|)    \n",
       "(Intercept) -0.4469095  0.0194584 -22.967  < 2e-16 ***\n",
       "gendermale  -0.0359679  0.0091905  -3.914 9.09e-05 ***\n",
       "age          0.0010250  0.0003084   3.323 0.000890 ***\n",
       "AKT1        -0.0311534  0.0069024  -4.513 6.38e-06 ***\n",
       "AKT3        -0.0303862  0.0056614  -5.367 7.99e-08 ***\n",
       "DCK         -0.0147489  0.0060003  -2.458 0.013971 *  \n",
       "INSR         0.0029850  0.0051340   0.581 0.560965    \n",
       "MC1R        -0.0103208  0.0054722  -1.886 0.059289 .  \n",
       "PAK2         0.0134622  0.0058051   2.319 0.020393 *  \n",
       "TLR4        -0.0384123  0.0059420  -6.464 1.02e-10 ***\n",
       "CIITA       -0.0765006  0.0090904  -8.416  < 2e-16 ***\n",
       "IL17RB      -0.0107386  0.0050203  -2.139 0.032433 *  \n",
       "KLRD1       -0.0491247  0.0082255  -5.972 2.34e-09 ***\n",
       "MC3R        -0.0356052  0.0039134  -9.098  < 2e-16 ***\n",
       "NAMPT       -0.0700959  0.0050391 -13.910  < 2e-16 ***\n",
       "RFX5        -0.0211490  0.0063166  -3.348 0.000814 ***\n",
       "SOS1        -0.0367775  0.0051144  -7.191 6.43e-13 ***\n",
       "DDX58        0.0144237  0.0059659   2.418 0.015619 *  \n",
       "EIF2AK2     -0.0064414  0.0059478  -1.083 0.278814    \n",
       "APOBEC3G     0.0363754  0.0074639   4.874 1.10e-06 ***\n",
       "IL15RA      -0.0224479  0.0084326  -2.662 0.007767 ** \n",
       "CCL28       -0.0272472  0.0049588  -5.495 3.91e-08 ***\n",
       "IL17C        0.0343321  0.0047969   7.157 8.24e-13 ***\n",
       "B2M          0.0312748  0.0072189   4.332 1.48e-05 ***\n",
       "CD86         0.0195838  0.0107580   1.820 0.068700 .  \n",
       "CD81         0.0241907  0.0062015   3.901 9.59e-05 ***\n",
       "C5          -0.0166116  0.0049050  -3.387 0.000707 ***\n",
       "TNFRSF19     0.0359136  0.0057177   6.281 3.36e-10 ***\n",
       "---\n",
       "Signif. codes:  0 '***' 0.001 '**' 0.01 '*' 0.05 '.' 0.1 ' ' 1\n",
       "\n",
       "(Dispersion parameter for poisson family taken to be 1)\n",
       "\n",
       "    Null deviance: 3610.1  on 239  degrees of freedom\n",
       "Residual deviance: 2127.7  on 212  degrees of freedom\n",
       "AIC: 3879.9\n",
       "\n",
       "Number of Fisher Scoring iterations: 4\n"
      ]
     },
     "metadata": {},
     "output_type": "display_data"
    }
   ],
   "source": [
    "pm = glm(infiltration_count ~ . -tile_count-infil_rate,offset= log(tile_count), family = poisson(link = \"log\"), data = data)\n",
    "summary(pm)"
   ]
  },
  {
   "cell_type": "code",
   "execution_count": 15,
   "metadata": {},
   "outputs": [
    {
     "data": {
      "text/plain": [
       "\u001b[4mMODEL INFO:\u001b[24m\n",
       "\u001b[3mObservations:\u001b[23m 240\n",
       "\u001b[3mDependent Variable:\u001b[23m infiltration_count\n",
       "\u001b[3mType:\u001b[23m Generalized linear model\n",
       "  \u001b[3mFamily:\u001b[23m poisson \n",
       "  \u001b[3mLink function:\u001b[23m log \n",
       "\n",
       "\u001b[4mMODEL FIT:\u001b[24m\n",
       "χ2(27) = 1482.42, \u001b[3mp\u001b[23m = 0.00\n",
       "\u001b[3mPseudo-R2 (Cragg-Uhler)\u001b[23m = 1.00\n",
       "\u001b[3mPseudo-R2 (McFadden)\u001b[23m = 0.28\n",
       "\u001b[3mAIC\u001b[23m = 3879.86, \u001b[3mBIC\u001b[23m = 3977.32 \n",
       "\n",
       "\u001b[3mStandard errors: MLE\u001b[23m\n",
       "-------------------------------------------------------\n",
       "                     Est.   S.E.   z val.      p    VIF\n",
       "----------------- ------- ------ -------- ------ ------\n",
       "(Intercept)         -0.45   0.02   -22.97   0.00       \n",
       "gendermale          -0.04   0.01    -3.91   0.00   1.13\n",
       "age                  0.00   0.00     3.32   0.00   1.34\n",
       "AKT1                -0.03   0.01    -4.51   0.00   2.70\n",
       "AKT3                -0.03   0.01    -5.37   0.00   1.68\n",
       "DCK                 -0.01   0.01    -2.46   0.01   2.17\n",
       "INSR                 0.00   0.01     0.58   0.56   1.34\n",
       "MC1R                -0.01   0.01    -1.89   0.06   1.88\n",
       "PAK2                 0.01   0.01     2.32   0.02   1.76\n",
       "TLR4                -0.04   0.01    -6.46   0.00   1.93\n",
       "CIITA               -0.08   0.01    -8.42   0.00   4.55\n",
       "IL17RB              -0.01   0.01    -2.14   0.03   1.60\n",
       "KLRD1               -0.05   0.01    -5.97   0.00   3.07\n",
       "MC3R                -0.04   0.00    -9.10   0.00   1.21\n",
       "NAMPT               -0.07   0.01   -13.91   0.00   1.32\n",
       "RFX5                -0.02   0.01    -3.35   0.00   2.15\n",
       "SOS1                -0.04   0.01    -7.19   0.00   1.41\n",
       "DDX58                0.01   0.01     2.42   0.02   1.99\n",
       "EIF2AK2             -0.01   0.01    -1.08   0.28   2.03\n",
       "APOBEC3G             0.04   0.01     4.87   0.00   3.32\n",
       "IL15RA              -0.02   0.01    -2.66   0.01   3.56\n",
       "CCL28               -0.03   0.00    -5.49   0.00   1.39\n",
       "IL17C                0.03   0.00     7.16   0.00   1.90\n",
       "B2M                  0.03   0.01     4.33   0.00   2.71\n",
       "CD86                 0.02   0.01     1.82   0.07   6.24\n",
       "CD81                 0.02   0.01     3.90   0.00   2.03\n",
       "C5                  -0.02   0.00    -3.39   0.00   1.38\n",
       "TNFRSF19             0.04   0.01     6.28   0.00   1.80\n",
       "-------------------------------------------------------"
      ]
     },
     "metadata": {},
     "output_type": "display_data"
    }
   ],
   "source": [
    "library(jtools)\n",
    "summ(pm, vifs = TRUE)"
   ]
  },
  {
   "cell_type": "code",
   "execution_count": 16,
   "metadata": {},
   "outputs": [
    {
     "data": {
      "text/html": [
       "6.51539516073346e-313"
      ],
      "text/latex": [
       "6.51539516073346e-313"
      ],
      "text/markdown": [
       "6.51539516073346e-313"
      ],
      "text/plain": [
       "[1] 6.515395e-313"
      ]
     },
     "metadata": {},
     "output_type": "display_data"
    }
   ],
   "source": [
    "pchisq(pm$deviance, df=pm$df.residual, lower.tail=FALSE)"
   ]
  },
  {
   "cell_type": "code",
   "execution_count": 17,
   "metadata": {},
   "outputs": [
    {
     "data": {
      "image/png": "[encoded data removed]",
      "text/plain": [
       "plot without title"
      ]
     },
     "metadata": {
      "image/png": {
       "height": 420,
       "width": 420
      }
     },
     "output_type": "display_data"
    }
   ],
   "source": [
    "\n",
    "plot(log(fitted(pm)),log((data$infiltration_count-fitted(pm))^2),xlab=expression(hat(mu)),ylab=expression((y-hat(mu))^2),pch=20,col=\"blue\")\n",
    "abline(0,1) ## 'varianc = mean' line"
   ]
  },
  {
   "cell_type": "code",
   "execution_count": 18,
   "metadata": {},
   "outputs": [
    {
     "data": {
      "image/png": "[encoded data removed]",
      "text/plain": [
       "plot without title"
      ]
     },
     "metadata": {
      "image/png": {
       "height": 420,
       "width": 420
      }
     },
     "output_type": "display_data"
    }
   ],
   "source": [
    "res <- residuals(pm, type=\"pearson\")\n",
    "plot(predict(pm), res)"
   ]
  },
  {
   "cell_type": "code",
   "execution_count": 19,
   "metadata": {
    "scrolled": true
   },
   "outputs": [
    {
     "name": "stderr",
     "output_type": "stream",
     "text": [
      "Warning message:\n",
      "\"package 'AER' was built under R version 3.6.3\"\n",
      "Loading required package: car\n",
      "\n",
      "Warning message:\n",
      "\"package 'car' was built under R version 3.6.3\"\n",
      "Loading required package: carData\n",
      "\n",
      "Loading required package: lmtest\n",
      "\n",
      "Warning message:\n",
      "\"package 'lmtest' was built under R version 3.6.3\"\n",
      "Loading required package: zoo\n",
      "\n",
      "Warning message:\n",
      "\"package 'zoo' was built under R version 3.6.3\"\n",
      "\n",
      "Attaching package: 'zoo'\n",
      "\n",
      "\n",
      "The following objects are masked from 'package:base':\n",
      "\n",
      "    as.Date, as.Date.numeric\n",
      "\n",
      "\n",
      "Loading required package: sandwich\n",
      "\n",
      "Loading required package: survival\n",
      "\n",
      "Warning message:\n",
      "\"package 'survival' was built under R version 3.6.3\"\n"
     ]
    },
    {
     "data": {
      "text/plain": [
       "\n",
       "\tOverdispersion test\n",
       "\n",
       "data:  pm\n",
       "z = 9.33, p-value < 2.2e-16\n",
       "alternative hypothesis: true dispersion is greater than 1\n",
       "sample estimates:\n",
       "dispersion \n",
       "  8.804337 \n"
      ]
     },
     "metadata": {},
     "output_type": "display_data"
    }
   ],
   "source": [
    "library(AER)\n",
    "dispersiontest(pm)"
   ]
  },
  {
   "cell_type": "code",
   "execution_count": null,
   "metadata": {},
   "outputs": [],
   "source": []
  },
  {
   "cell_type": "code",
   "execution_count": 20,
   "metadata": {},
   "outputs": [
    {
     "data": {
      "text/plain": [
       "\n",
       "Call:\n",
       "glm(formula = infiltration_count ~ . - tile_count - infil_rate, \n",
       "    family = quasipoisson(link = \"log\"), data = data, offset = log(tile_count))\n",
       "\n",
       "Deviance Residuals: \n",
       "    Min       1Q   Median       3Q      Max  \n",
       "-7.5604  -1.4105   0.5106   1.9562   8.4395  \n",
       "\n",
       "Coefficients:\n",
       "              Estimate Std. Error t value Pr(>|t|)    \n",
       "(Intercept) -0.4469095  0.0616019  -7.255 7.46e-12 ***\n",
       "gendermale  -0.0359679  0.0290956  -1.236  0.21775    \n",
       "age          0.0010250  0.0009765   1.050  0.29507    \n",
       "AKT1        -0.0311534  0.0218518  -1.426  0.15544    \n",
       "AKT3        -0.0303862  0.0179230  -1.695  0.09147 .  \n",
       "DCK         -0.0147489  0.0189960  -0.776  0.43837    \n",
       "INSR         0.0029850  0.0162534   0.184  0.85446    \n",
       "MC1R        -0.0103208  0.0173240  -0.596  0.55198    \n",
       "PAK2         0.0134622  0.0183779   0.733  0.46466    \n",
       "TLR4        -0.0384123  0.0188115  -2.042  0.04239 *  \n",
       "CIITA       -0.0765006  0.0287786  -2.658  0.00845 ** \n",
       "IL17RB      -0.0107386  0.0158934  -0.676  0.49999    \n",
       "KLRD1       -0.0491247  0.0260406  -1.886  0.06060 .  \n",
       "MC3R        -0.0356052  0.0123890  -2.874  0.00447 ** \n",
       "NAMPT       -0.0700959  0.0159530  -4.394 1.76e-05 ***\n",
       "RFX5        -0.0211490  0.0199974  -1.058  0.29145    \n",
       "SOS1        -0.0367775  0.0161914  -2.271  0.02413 *  \n",
       "DDX58        0.0144237  0.0188871   0.764  0.44590    \n",
       "EIF2AK2     -0.0064414  0.0188299  -0.342  0.73262    \n",
       "APOBEC3G     0.0363754  0.0236295   1.539  0.12520    \n",
       "IL15RA      -0.0224479  0.0266963  -0.841  0.40137    \n",
       "CCL28       -0.0272472  0.0156989  -1.736  0.08408 .  \n",
       "IL17C        0.0343321  0.0151862   2.261  0.02479 *  \n",
       "B2M          0.0312748  0.0228538   1.368  0.17261    \n",
       "CD86         0.0195838  0.0340581   0.575  0.56589    \n",
       "CD81         0.0241907  0.0196328   1.232  0.21926    \n",
       "C5          -0.0166116  0.0155284  -1.070  0.28595    \n",
       "TNFRSF19     0.0359136  0.0181013   1.984  0.04854 *  \n",
       "---\n",
       "Signif. codes:  0 '***' 0.001 '**' 0.01 '*' 0.05 '.' 0.1 ' ' 1\n",
       "\n",
       "(Dispersion parameter for quasipoisson family taken to be 10.0225)\n",
       "\n",
       "    Null deviance: 3610.1  on 239  degrees of freedom\n",
       "Residual deviance: 2127.7  on 212  degrees of freedom\n",
       "AIC: NA\n",
       "\n",
       "Number of Fisher Scoring iterations: 4\n"
      ]
     },
     "metadata": {},
     "output_type": "display_data"
    }
   ],
   "source": [
    "qpm = glm(infiltration_count ~ . -tile_count-infil_rate,offset= log(tile_count), family = quasipoisson(link = \"log\"), data = data)\n",
    "summary(qpm)"
   ]
  },
  {
   "cell_type": "code",
   "execution_count": 21,
   "metadata": {},
   "outputs": [
    {
     "data": {
      "text/html": [
       "6.51539516068406e-313"
      ],
      "text/latex": [
       "6.51539516068406e-313"
      ],
      "text/markdown": [
       "6.51539516068406e-313"
      ],
      "text/plain": [
       "[1] 6.515395e-313"
      ]
     },
     "metadata": {},
     "output_type": "display_data"
    }
   ],
   "source": [
    "pchisq(qpm$deviance, df=qpm$df.residual, lower.tail=FALSE)"
   ]
  },
  {
   "cell_type": "code",
   "execution_count": 22,
   "metadata": {},
   "outputs": [
    {
     "data": {
      "text/plain": [
       "\n",
       "Call:\n",
       "glm.nb(formula = infiltration_count ~ . - tile_count - infil_rate + \n",
       "    offset(log(tile_count)), data = data, init.theta = 25.98425948, \n",
       "    link = log)\n",
       "\n",
       "Deviance Residuals: \n",
       "    Min       1Q   Median       3Q      Max  \n",
       "-2.8970  -0.5962   0.1153   0.6661   2.1316  \n",
       "\n",
       "Coefficients:\n",
       "              Estimate Std. Error z value Pr(>|z|)    \n",
       "(Intercept) -0.4202487  0.0595855  -7.053 1.75e-12 ***\n",
       "gendermale  -0.0361172  0.0289669  -1.247   0.2125    \n",
       "age          0.0011466  0.0009522   1.204   0.2285    \n",
       "AKT1        -0.0295311  0.0220854  -1.337   0.1812    \n",
       "AKT3        -0.0338635  0.0179714  -1.884   0.0595 .  \n",
       "DCK         -0.0165375  0.0195110  -0.848   0.3967    \n",
       "INSR         0.0105184  0.0157951   0.666   0.5055    \n",
       "MC1R        -0.0092644  0.0186917  -0.496   0.6201    \n",
       "PAK2         0.0124106  0.0179780   0.690   0.4900    \n",
       "TLR4        -0.0359654  0.0187752  -1.916   0.0554 .  \n",
       "CIITA       -0.0585401  0.0258332  -2.266   0.0234 *  \n",
       "IL17RB      -0.0121950  0.0162084  -0.752   0.4518    \n",
       "KLRD1       -0.0509220  0.0240886  -2.114   0.0345 *  \n",
       "MC3R        -0.0353740  0.0141782  -2.495   0.0126 *  \n",
       "NAMPT       -0.0673170  0.0154958  -4.344 1.40e-05 ***\n",
       "RFX5        -0.0228906  0.0199261  -1.149   0.2506    \n",
       "SOS1        -0.0250519  0.0163055  -1.536   0.1244    \n",
       "DDX58        0.0108634  0.0187943   0.578   0.5633    \n",
       "EIF2AK2     -0.0019192  0.0188040  -0.102   0.9187    \n",
       "APOBEC3G     0.0263751  0.0235940   1.118   0.2636    \n",
       "IL15RA      -0.0142381  0.0253920  -0.561   0.5750    \n",
       "CCL28       -0.0183890  0.0157436  -1.168   0.2428    \n",
       "IL17C        0.0236520  0.0159727   1.481   0.1387    \n",
       "B2M          0.0347527  0.0232444   1.495   0.1349    \n",
       "CD86         0.0241492  0.0333108   0.725   0.4685    \n",
       "CD81         0.0217865  0.0195623   1.114   0.2654    \n",
       "C5          -0.0126069  0.0159138  -0.792   0.4282    \n",
       "TNFRSF19     0.0338124  0.0177419   1.906   0.0567 .  \n",
       "---\n",
       "Signif. codes:  0 '***' 0.001 '**' 0.01 '*' 0.05 '.' 0.1 ' ' 1\n",
       "\n",
       "(Dispersion parameter for Negative Binomial(25.9843) family taken to be 1)\n",
       "\n",
       "    Null deviance: 345.71  on 239  degrees of freedom\n",
       "Residual deviance: 243.36  on 212  degrees of freedom\n",
       "AIC: 2511.7\n",
       "\n",
       "Number of Fisher Scoring iterations: 1\n",
       "\n",
       "\n",
       "              Theta:  25.98 \n",
       "          Std. Err.:  2.74 \n",
       "\n",
       " 2 x log-likelihood:  -2453.661 "
      ]
     },
     "metadata": {},
     "output_type": "display_data"
    }
   ],
   "source": [
    "library(MASS)\n",
    "nb_mod = glm.nb(infiltration_count ~ .-tile_count-infil_rate +offset(log(tile_count)),data = data)\n",
    "summary(nb_mod)"
   ]
  },
  {
   "cell_type": "code",
   "execution_count": 23,
   "metadata": {},
   "outputs": [
    {
     "name": "stdout",
     "output_type": "stream",
     "text": [
      "Error in glm.control(...) : 参数没有用(offset = .offset)\n"
     ]
    },
    {
     "name": "stderr",
     "output_type": "stream",
     "text": [
      "Warning message:\n",
      "\"\u001b[33mSomething went wrong when calculating the pseudo R-squared. Returning NA\n",
      "instead.\u001b[39m\"\n"
     ]
    },
    {
     "data": {
      "text/plain": [
       "\u001b[4mMODEL INFO:\u001b[24m\n",
       "\u001b[3mObservations:\u001b[23m 240\n",
       "\u001b[3mDependent Variable:\u001b[23m infiltration_count\n",
       "\u001b[3mType:\u001b[23m Generalized linear model\n",
       "  \u001b[3mFamily:\u001b[23m Negative Binomial(25.9843) \n",
       "  \u001b[3mLink function:\u001b[23m log \n",
       "\n",
       "\u001b[4mMODEL FIT:\u001b[24m\n",
       "χ2(NA) = NA, \u001b[3mp\u001b[23m = NA\n",
       "\u001b[3mPseudo-R2 (Cragg-Uhler)\u001b[23m = NA\n",
       "\u001b[3mPseudo-R2 (McFadden)\u001b[23m = NA\n",
       "\u001b[3mAIC\u001b[23m = 2511.66, \u001b[3mBIC\u001b[23m = 2612.60 \n",
       "\n",
       "\u001b[3mStandard errors: MLE\u001b[23m\n",
       "-------------------------------------------------------\n",
       "                     Est.   S.E.   z val.      p    VIF\n",
       "----------------- ------- ------ -------- ------ ------\n",
       "(Intercept)         -0.42   0.06    -7.05   0.00       \n",
       "gendermale          -0.04   0.03    -1.25   0.21   1.07\n",
       "age                  0.00   0.00     1.20   0.23   1.25\n",
       "AKT1                -0.03   0.02    -1.34   0.18   2.62\n",
       "AKT3                -0.03   0.02    -1.88   0.06   1.72\n",
       "DCK                 -0.02   0.02    -0.85   0.40   2.03\n",
       "INSR                 0.01   0.02     0.67   0.51   1.32\n",
       "MC1R                -0.01   0.02    -0.50   0.62   1.89\n",
       "PAK2                 0.01   0.02     0.69   0.49   1.71\n",
       "TLR4                -0.04   0.02    -1.92   0.06   1.89\n",
       "CIITA               -0.06   0.03    -2.27   0.02   3.53\n",
       "IL17RB              -0.01   0.02    -0.75   0.45   1.42\n",
       "KLRD1               -0.05   0.02    -2.11   0.03   3.02\n",
       "MC3R                -0.04   0.01    -2.49   0.01   1.15\n",
       "NAMPT               -0.07   0.02    -4.34   0.00   1.31\n",
       "RFX5                -0.02   0.02    -1.15   0.25   2.09\n",
       "SOS1                -0.03   0.02    -1.54   0.12   1.43\n",
       "DDX58                0.01   0.02     0.58   0.56   1.93\n",
       "EIF2AK2             -0.00   0.02    -0.10   0.92   1.92\n",
       "APOBEC3G             0.03   0.02     1.12   0.26   2.97\n",
       "IL15RA              -0.01   0.03    -0.56   0.57   3.44\n",
       "CCL28               -0.02   0.02    -1.17   0.24   1.34\n",
       "IL17C                0.02   0.02     1.48   0.14   1.39\n",
       "B2M                  0.03   0.02     1.50   0.13   2.87\n",
       "CD86                 0.02   0.03     0.72   0.47   5.88\n",
       "CD81                 0.02   0.02     1.11   0.27   2.02\n",
       "C5                  -0.01   0.02    -0.79   0.43   1.38\n",
       "TNFRSF19             0.03   0.02     1.91   0.06   1.67\n",
       "-------------------------------------------------------"
      ]
     },
     "metadata": {},
     "output_type": "display_data"
    }
   ],
   "source": [
    "summ(nb_mod, vifs = TRUE)"
   ]
  },
  {
   "cell_type": "code",
   "execution_count": 24,
   "metadata": {},
   "outputs": [
    {
     "data": {
      "text/html": [
       "0.0686660444839923"
      ],
      "text/latex": [
       "0.0686660444839923"
      ],
      "text/markdown": [
       "0.0686660444839923"
      ],
      "text/plain": [
       "[1] 0.06866604"
      ]
     },
     "metadata": {},
     "output_type": "display_data"
    }
   ],
   "source": [
    "pchisq(nb_mod$deviance, df=nb_mod$df.residual, lower.tail=FALSE)"
   ]
  },
  {
   "cell_type": "code",
   "execution_count": 25,
   "metadata": {},
   "outputs": [
    {
     "data": {
      "text/plain": [
       "\n",
       "Call:  glm.nb(formula = infiltration_count ~ AKT3 + TLR4 + CIITA + KLRD1 + \n",
       "    MC3R + NAMPT + SOS1 + CD86 + TNFRSF19 + offset(log(tile_count)), \n",
       "    data = data, init.theta = 24.03979379, link = log)\n",
       "\n",
       "Coefficients:\n",
       "(Intercept)         AKT3         TLR4        CIITA        KLRD1         MC3R  \n",
       "   -0.37408     -0.03398     -0.02859     -0.06314     -0.05820     -0.04301  \n",
       "      NAMPT         SOS1         CD86     TNFRSF19  \n",
       "   -0.06205     -0.03090      0.06899      0.04369  \n",
       "\n",
       "Degrees of Freedom: 239 Total (i.e. Null);  230 Residual\n",
       "Null Deviance:\t    322.9 \n",
       "Residual Deviance: 242 \tAIC: 2490"
      ]
     },
     "metadata": {},
     "output_type": "display_data"
    }
   ],
   "source": [
    "stepAIC(nb_mod,direction = 'both',trace = F)"
   ]
  },
  {
   "cell_type": "code",
   "execution_count": 32,
   "metadata": {},
   "outputs": [
    {
     "data": {
      "text/plain": [
       "\n",
       "Call:\n",
       "glm.nb(formula = infiltration_count ~ age + gender + AKT3 + TLR4 + \n",
       "    CIITA + KLRD1 + MC3R + NAMPT + SOS1 + CD86 + TNFRSF19 + offset(log(tile_count)), \n",
       "    data = data, init.theta = 24.25137094, link = log)\n",
       "\n",
       "Deviance Residuals: \n",
       "     Min        1Q    Median        3Q       Max  \n",
       "-2.97293  -0.66746   0.08712   0.67594   2.02938  \n",
       "\n",
       "Coefficients:\n",
       "              Estimate Std. Error z value Pr(>|z|)    \n",
       "(Intercept) -0.3917982  0.0584098  -6.708 1.98e-11 ***\n",
       "age          0.0006320  0.0009181   0.688  0.49126    \n",
       "gendermale  -0.0311734  0.0290952  -1.071  0.28398    \n",
       "AKT3        -0.0346437  0.0158017  -2.192  0.02835 *  \n",
       "TLR4        -0.0275698  0.0181612  -1.518  0.12900    \n",
       "CIITA       -0.0640071  0.0200701  -3.189  0.00143 ** \n",
       "KLRD1       -0.0598488  0.0210670  -2.841  0.00450 ** \n",
       "MC3R        -0.0412146  0.0139771  -2.949  0.00319 ** \n",
       "NAMPT       -0.0633004  0.0149887  -4.223 2.41e-05 ***\n",
       "SOS1        -0.0314811  0.0153788  -2.047  0.04065 *  \n",
       "CD86         0.0713961  0.0273005   2.615  0.00892 ** \n",
       "TNFRSF19     0.0451157  0.0155032   2.910  0.00361 ** \n",
       "---\n",
       "Signif. codes:  0 '***' 0.001 '**' 0.01 '*' 0.05 '.' 0.1 ' ' 1\n",
       "\n",
       "(Dispersion parameter for Negative Binomial(24.2514) family taken to be 1)\n",
       "\n",
       "    Null deviance: 325.40  on 239  degrees of freedom\n",
       "Residual deviance: 242.11  on 228  degrees of freedom\n",
       "AIC: 2492.8\n",
       "\n",
       "Number of Fisher Scoring iterations: 1\n",
       "\n",
       "\n",
       "              Theta:  24.25 \n",
       "          Std. Err.:  2.52 \n",
       "\n",
       " 2 x log-likelihood:  -2466.798 "
      ]
     },
     "metadata": {},
     "output_type": "display_data"
    }
   ],
   "source": [
    "library(MASS)\n",
    "new_nb_mod = glm.nb(infiltration_count ~ age+gender+AKT3 + TLR4 + CIITA + KLRD1 + \n",
    "    MC3R + NAMPT + SOS1 + CD86 + TNFRSF19 +offset(log(tile_count)),data = data)\n",
    "summary(new_nb_mod)"
   ]
  },
  {
   "cell_type": "code",
   "execution_count": 27,
   "metadata": {},
   "outputs": [
    {
     "data": {
      "text/html": [
       "0.281367315058073"
      ],
      "text/latex": [
       "0.281367315058073"
      ],
      "text/markdown": [
       "0.281367315058073"
      ],
      "text/plain": [
       "[1] 0.2813673"
      ]
     },
     "metadata": {},
     "output_type": "display_data"
    }
   ],
   "source": [
    "pchisq(new_nb_mod$deviance, df=new_nb_mod$df.residual, lower.tail=FALSE)"
   ]
  },
  {
   "cell_type": "code",
   "execution_count": 28,
   "metadata": {},
   "outputs": [
    {
     "data": {
      "text/plain": [
       "'log Lik.' 0.6743879 (df=29)"
      ]
     },
     "metadata": {},
     "output_type": "display_data"
    }
   ],
   "source": [
    "pchisq(2 * (logLik(nb_mod) - logLik(new_nb_mod)), df = 18, lower.tail = FALSE)"
   ]
  },
  {
   "cell_type": "code",
   "execution_count": 30,
   "metadata": {},
   "outputs": [
    {
     "data": {
      "text/plain": [
       "\n",
       "Call:\n",
       "glm.nb(formula = infiltration_count ~ age + gender + offset(log(tile_count)), \n",
       "    data = data, init.theta = 17.31719959, link = log)\n",
       "\n",
       "Deviance Residuals: \n",
       "    Min       1Q   Median       3Q      Max  \n",
       "-3.6296  -0.6846   0.1189   0.7034   1.5773  \n",
       "\n",
       "Coefficients:\n",
       "              Estimate Std. Error z value Pr(>|z|)    \n",
       "(Intercept) -3.477e-01  6.524e-02  -5.330 9.83e-08 ***\n",
       "age          2.628e-06  1.023e-03   0.003    0.998    \n",
       "gendermale  -3.040e-02  3.358e-02  -0.905    0.365    \n",
       "---\n",
       "Signif. codes:  0 '***' 0.001 '**' 0.01 '*' 0.05 '.' 0.1 ' ' 1\n",
       "\n",
       "(Dispersion parameter for Negative Binomial(17.3172) family taken to be 1)\n",
       "\n",
       "    Null deviance: 240.78  on 239  degrees of freedom\n",
       "Residual deviance: 239.97  on 237  degrees of freedom\n",
       "AIC: 2544.6\n",
       "\n",
       "Number of Fisher Scoring iterations: 1\n",
       "\n",
       "\n",
       "              Theta:  17.32 \n",
       "          Std. Err.:  1.72 \n",
       "\n",
       " 2 x log-likelihood:  -2536.637 "
      ]
     },
     "metadata": {},
     "output_type": "display_data"
    }
   ],
   "source": [
    "renb_mod = glm.nb(infiltration_count ~age+gender +offset(log(tile_count)),data = data)\n",
    "summary(renb_mod)"
   ]
  },
  {
   "cell_type": "code",
   "execution_count": 31,
   "metadata": {},
   "outputs": [
    {
     "data": {
      "text/plain": [
       "'log Lik.' 3.870431e-08 (df=29)"
      ]
     },
     "metadata": {},
     "output_type": "display_data"
    }
   ],
   "source": [
    "pchisq(2 * (logLik(nb_mod) - logLik(renb_mod)), df = 25, lower.tail = FALSE)"
   ]
  },
  {
   "cell_type": "markdown",
   "metadata": {},
   "source": [
    "### diagnostics"
   ]
  },
  {
   "cell_type": "code",
   "execution_count": 34,
   "metadata": {},
   "outputs": [
    {
     "data": {
      "text/html": [
       "<table>\n",
       "<caption>A Anova: 2 × 8</caption>\n",
       "<thead>\n",
       "\t<tr><th scope=col>Model</th><th scope=col>theta</th><th scope=col>Resid. df</th><th scope=col>   2 x log-lik.</th><th scope=col>Test</th><th scope=col>   df</th><th scope=col>LR stat.</th><th scope=col>Pr(Chi)</th></tr>\n",
       "\t<tr><th scope=col>&lt;fct&gt;</th><th scope=col>&lt;dbl&gt;</th><th scope=col>&lt;int&gt;</th><th scope=col>&lt;dbl&gt;</th><th scope=col>&lt;fct&gt;</th><th scope=col>&lt;int&gt;</th><th scope=col>&lt;dbl&gt;</th><th scope=col>&lt;dbl&gt;</th></tr>\n",
       "</thead>\n",
       "<tbody>\n",
       "\t<tr><td>AKT3 + TLR4 + CIITA + KLRD1 + MC3R + NAMPT + SOS1 + CD86 + TNFRSF19 + offset(log(tile_count))                                                                                                                                                                                               </td><td>24.03979</td><td>230</td><td>-2468.480</td><td>      </td><td>NA</td><td>      NA</td><td>       NA</td></tr>\n",
       "\t<tr><td>(gender + age + tile_count + AKT1 + AKT3 + DCK + INSR + MC1R + PAK2 + TLR4 + CIITA + IL17RB + KLRD1 + MC3R + NAMPT + RFX5 + SOS1 + DDX58 + EIF2AK2 + APOBEC3G + IL15RA + CCL28 + IL17C + B2M + CD86 + CD81 + C5 + TNFRSF19 + infil_rate) - tile_count - infil_rate + offset(log(tile_count))</td><td>25.98426</td><td>212</td><td>-2453.661</td><td>1 vs 2</td><td>18</td><td>14.81853</td><td>0.6743879</td></tr>\n",
       "</tbody>\n",
       "</table>\n"
      ],
      "text/latex": [
       "A Anova: 2 × 8\n",
       "\\begin{tabular}{llllllll}\n",
       " Model & theta & Resid. df &    2 x log-lik. & Test &    df & LR stat. & Pr(Chi)\\\\\n",
       " <fct> & <dbl> & <int> & <dbl> & <fct> & <int> & <dbl> & <dbl>\\\\\n",
       "\\hline\n",
       "\t AKT3 + TLR4 + CIITA + KLRD1 + MC3R + NAMPT + SOS1 + CD86 + TNFRSF19 + offset(log(tile\\_count))                                                                                                                                                                                                & 24.03979 & 230 & -2468.480 &        & NA &       NA &        NA\\\\\n",
       "\t (gender + age + tile\\_count + AKT1 + AKT3 + DCK + INSR + MC1R + PAK2 + TLR4 + CIITA + IL17RB + KLRD1 + MC3R + NAMPT + RFX5 + SOS1 + DDX58 + EIF2AK2 + APOBEC3G + IL15RA + CCL28 + IL17C + B2M + CD86 + CD81 + C5 + TNFRSF19 + infil\\_rate) - tile\\_count - infil\\_rate + offset(log(tile\\_count)) & 25.98426 & 212 & -2453.661 & 1 vs 2 & 18 & 14.81853 & 0.6743879\\\\\n",
       "\\end{tabular}\n"
      ],
      "text/markdown": [
       "\n",
       "A Anova: 2 × 8\n",
       "\n",
       "| Model &lt;fct&gt; | theta &lt;dbl&gt; | Resid. df &lt;int&gt; |    2 x log-lik. &lt;dbl&gt; | Test &lt;fct&gt; |    df &lt;int&gt; | LR stat. &lt;dbl&gt; | Pr(Chi) &lt;dbl&gt; |\n",
       "|---|---|---|---|---|---|---|---|\n",
       "| AKT3 + TLR4 + CIITA + KLRD1 + MC3R + NAMPT + SOS1 + CD86 + TNFRSF19 + offset(log(tile_count))                                                                                                                                                                                                | 24.03979 | 230 | -2468.480 | <!----> | NA |       NA |        NA |\n",
       "| (gender + age + tile_count + AKT1 + AKT3 + DCK + INSR + MC1R + PAK2 + TLR4 + CIITA + IL17RB + KLRD1 + MC3R + NAMPT + RFX5 + SOS1 + DDX58 + EIF2AK2 + APOBEC3G + IL15RA + CCL28 + IL17C + B2M + CD86 + CD81 + C5 + TNFRSF19 + infil_rate) - tile_count - infil_rate + offset(log(tile_count)) | 25.98426 | 212 | -2453.661 | 1 vs 2 | 18 | 14.81853 | 0.6743879 |\n",
       "\n"
      ],
      "text/plain": [
       "  Model                                                                                                                                                                                                                                                                                       \n",
       "1 AKT3 + TLR4 + CIITA + KLRD1 + MC3R + NAMPT + SOS1 + CD86 + TNFRSF19 + offset(log(tile_count))                                                                                                                                                                                               \n",
       "2 (gender + age + tile_count + AKT1 + AKT3 + DCK + INSR + MC1R + PAK2 + TLR4 + CIITA + IL17RB + KLRD1 + MC3R + NAMPT + RFX5 + SOS1 + DDX58 + EIF2AK2 + APOBEC3G + IL15RA + CCL28 + IL17C + B2M + CD86 + CD81 + C5 + TNFRSF19 + infil_rate) - tile_count - infil_rate + offset(log(tile_count))\n",
       "  theta    Resid. df    2 x log-lik. Test      df LR stat. Pr(Chi)  \n",
       "1 24.03979 230       -2468.480              NA          NA        NA\n",
       "2 25.98426 212       -2453.661       1 vs 2 18    14.81853 0.6743879"
      ]
     },
     "metadata": {},
     "output_type": "display_data"
    }
   ],
   "source": [
    "anova(new_nb_mod, nb_mod)"
   ]
  },
  {
   "cell_type": "code",
   "execution_count": 33,
   "metadata": {},
   "outputs": [
    {
     "data": {
      "text/html": [
       "<table>\n",
       "<caption>A data.frame: 4 × 3</caption>\n",
       "<thead>\n",
       "\t<tr><th></th><th scope=col>StudRes</th><th scope=col>Hat</th><th scope=col>CookD</th></tr>\n",
       "\t<tr><th></th><th scope=col>&lt;dbl&gt;</th><th scope=col>&lt;dbl&gt;</th><th scope=col>&lt;dbl&gt;</th></tr>\n",
       "</thead>\n",
       "<tbody>\n",
       "\t<tr><th scope=row>71</th><td>-0.7702433</td><td>0.62963487</td><td>0.10360035</td></tr>\n",
       "\t<tr><th scope=row>72</th><td>-2.3331269</td><td>0.33371811</td><td>0.23037424</td></tr>\n",
       "\t<tr><th scope=row>127</th><td>-2.9285701</td><td>0.01743244</td><td>0.01021794</td></tr>\n",
       "\t<tr><th scope=row>234</th><td>-2.9167926</td><td>0.07551055</td><td>0.04821467</td></tr>\n",
       "</tbody>\n",
       "</table>\n"
      ],
      "text/latex": [
       "A data.frame: 4 × 3\n",
       "\\begin{tabular}{r|lll}\n",
       "  & StudRes & Hat & CookD\\\\\n",
       "  & <dbl> & <dbl> & <dbl>\\\\\n",
       "\\hline\n",
       "\t71 & -0.7702433 & 0.62963487 & 0.10360035\\\\\n",
       "\t72 & -2.3331269 & 0.33371811 & 0.23037424\\\\\n",
       "\t127 & -2.9285701 & 0.01743244 & 0.01021794\\\\\n",
       "\t234 & -2.9167926 & 0.07551055 & 0.04821467\\\\\n",
       "\\end{tabular}\n"
      ],
      "text/markdown": [
       "\n",
       "A data.frame: 4 × 3\n",
       "\n",
       "| <!--/--> | StudRes &lt;dbl&gt; | Hat &lt;dbl&gt; | CookD &lt;dbl&gt; |\n",
       "|---|---|---|---|\n",
       "| 71 | -0.7702433 | 0.62963487 | 0.10360035 |\n",
       "| 72 | -2.3331269 | 0.33371811 | 0.23037424 |\n",
       "| 127 | -2.9285701 | 0.01743244 | 0.01021794 |\n",
       "| 234 | -2.9167926 | 0.07551055 | 0.04821467 |\n",
       "\n"
      ],
      "text/plain": [
       "    StudRes    Hat        CookD     \n",
       "71  -0.7702433 0.62963487 0.10360035\n",
       "72  -2.3331269 0.33371811 0.23037424\n",
       "127 -2.9285701 0.01743244 0.01021794\n",
       "234 -2.9167926 0.07551055 0.04821467"
      ]
     },
     "metadata": {},
     "output_type": "display_data"
    },
    {
     "data": {
      "image/png": "[encoded data removed]",
      "text/plain": [
       "plot without title"
      ]
     },
     "metadata": {
      "image/png": {
       "height": 420,
       "width": 420
      }
     },
     "output_type": "display_data"
    }
   ],
   "source": [
    "library(car)\n",
    "influencePlot(new_nb_mod)\n"
   ]
  },
  {
   "cell_type": "code",
   "execution_count": null,
   "metadata": {},
   "outputs": [],
   "source": [
    "res <- residuals(new_nb_mod, type=\"deviance\")\n",
    "plot(exp(predict(new_nb_mod)), res)\n",
    "abline(h=0, lty=2)\n",
    "qqnorm(res)\n",
    "qqline(res)\n",
    "library(statmod)\n",
    "qqnorm(qresid(new_nb_mod));qqline(qresid(new_nb_mod))"
   ]
  },
  {
   "cell_type": "code",
   "execution_count": null,
   "metadata": {},
   "outputs": [],
   "source": []
  }
 ],
 "metadata": {
  "kernelspec": {
   "display_name": "R",
   "language": "R",
   "name": "ir"
  },
  "language_info": {
   "codemirror_mode": "r",
   "file_extension": ".r",
   "mimetype": "text/x-r-source",
   "name": "R",
   "pygments_lexer": "r",
   "version": "3.6.1"
  }
 },
 "nbformat": 4,
 "nbformat_minor": 4
}
